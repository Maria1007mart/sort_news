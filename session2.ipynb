{
  "nbformat": 4,
  "nbformat_minor": 0,
  "metadata": {
    "colab": {
      "provenance": [],
      "authorship_tag": "ABX9TyM0uFJSjK5/APYVC+WAjTtk",
      "include_colab_link": true
    },
    "kernelspec": {
      "name": "python3",
      "display_name": "Python 3"
    },
    "language_info": {
      "name": "python"
    }
  },
  "cells": [
    {
      "cell_type": "markdown",
      "metadata": {
        "id": "view-in-github",
        "colab_type": "text"
      },
      "source": [
        "<a href=\"https://colab.research.google.com/github/Maria1007mart/sort_news/blob/main/session2.ipynb\" target=\"_parent\"><img src=\"https://colab.research.google.com/assets/colab-badge.svg\" alt=\"Open In Colab\"/></a>"
      ]
    },
    {
      "cell_type": "code",
      "execution_count": 53,
      "metadata": {
        "colab": {
          "base_uri": "https://localhost:8080/"
        },
        "id": "3WrPLntSAvw2",
        "outputId": "183935fe-87cd-443d-ea56-2632b74ed132"
      },
      "outputs": [
        {
          "output_type": "stream",
          "name": "stdout",
          "text": [
            "pygame 2.3.0 (SDL 2.24.2, Python 3.9.16)\n",
            "Hello from the pygame community. https://www.pygame.org/contribute.html\n"
          ]
        },
        {
          "output_type": "execute_result",
          "data": {
            "text/plain": [
              "(4, 1)"
            ]
          },
          "metadata": {},
          "execution_count": 53
        }
      ],
      "source": [
        "import tkinter as tk\n",
        "from tkinter import ttk\n",
        "import sqlite3\n",
        "import pygame\n",
        "from pygame.locals import *\n",
        "pygame.init()\n"
      ]
    },
    {
      "cell_type": "code",
      "source": [
        "!apt-get install -y xvfb # Install X Virtual Frame Buffer\n",
        "import os\n",
        "os.system('Xvfb :1 -screen 0 1600x1200x16  &')    # create virtual display with size 1600x1200 and 16 bit color. Color can be changed to 24 or 8\n",
        "os.environ['DISPLAY']=':1.0'    # tell X clients to use our virtual DISPLAY :1.0."
      ],
      "metadata": {
        "colab": {
          "base_uri": "https://localhost:8080/"
        },
        "id": "nXVtIvDsJe3w",
        "outputId": "31c06ee8-24ef-4619-da7b-a32f49e95e8c"
      },
      "execution_count": 54,
      "outputs": [
        {
          "output_type": "stream",
          "name": "stdout",
          "text": [
            "Reading package lists... Done\n",
            "Building dependency tree       \n",
            "Reading state information... Done\n",
            "xvfb is already the newest version (2:1.20.13-1ubuntu1~20.04.6).\n",
            "0 upgraded, 0 newly installed, 0 to remove and 23 not upgraded.\n"
          ]
        }
      ]
    },
    {
      "cell_type": "code",
      "source": [
        "%matplotlib inline"
      ],
      "metadata": {
        "id": "V6PceGJyJonN"
      },
      "execution_count": 55,
      "outputs": []
    },
    {
      "cell_type": "code",
      "source": [
        "!apt install ghostscript python3-tk"
      ],
      "metadata": {
        "colab": {
          "base_uri": "https://localhost:8080/"
        },
        "id": "KQSe5-6DJse2",
        "outputId": "0e60fe6d-2850-41d9-f1bd-ee0aa5175d11"
      },
      "execution_count": 56,
      "outputs": [
        {
          "output_type": "stream",
          "name": "stdout",
          "text": [
            "Reading package lists... Done\n",
            "Building dependency tree       \n",
            "Reading state information... Done\n",
            "ghostscript is already the newest version (9.50~dfsg-5ubuntu4.6).\n",
            "python3-tk is already the newest version (3.8.10-0ubuntu1~20.04).\n",
            "0 upgraded, 0 newly installed, 0 to remove and 23 not upgraded.\n"
          ]
        }
      ]
    },
    {
      "cell_type": "code",
      "source": [
        " class Main(tk.Frame):\n",
        "    def __init__(self, root):\n",
        "        super().__init__(root)\n",
        "        self.init_main()\n",
        "        self.db = db\n",
        "        self.view_records()\n"
      ],
      "metadata": {
        "id": "kfltyEXpBVWP"
      },
      "execution_count": 57,
      "outputs": []
    },
    {
      "cell_type": "code",
      "source": [
        " def init_main(self):\n",
        "        toolbar = tk.Frame(bg='beige', bd=2)\n",
        "        toolbar.pack(side=tk.TOP, fill=tk.X)\n",
        "\n",
        "        self.add_img = tk.PhotoImage(file='add.png')\n",
        "        btn_open_dialog = tk.Button(toolbar, text='Добавить студента', command=self.open_dialog, bg='beige',\n",
        "                                    bd=0, compound=tk.TOP, image=self.add_img)\n",
        "        btn_open_dialog.pack(side=tk.LEFT)\n",
        "\n",
        "        self.update_img = tk.PhotoImage(file='edit.png')\n",
        "        btn_edit_dialog = tk.Button(toolbar, text='Редактировать', bg='beige', bd=0, image=self.update_img,\n",
        "                                    compound=tk.TOP, command=self.open_update_dialog)\n",
        "        btn_edit_dialog.pack(side=tk.LEFT)\n",
        "\n",
        "        self.delete_img = tk.PhotoImage(file='delete.png')\n",
        "        btn_delete_dialog = tk.Button(toolbar, text='Удалить', bg='beige', bd=0, image=self.delete_img,\n",
        "                                      compound=tk.TOP, command=self.delete_records)\n",
        "        btn_delete_dialog.pack(side=tk.LEFT)\n",
        "\n",
        "        self.search_img = tk.PhotoImage(file='search.png')\n",
        "        btn_search = tk.Button(toolbar, text='Поиск', bg='beige', bd=0, image=self.search_img,\n",
        "                               compound=tk.TOP, command=self.open_search_dialog)\n",
        "        btn_search.pack(side=tk.LEFT)\n",
        "\n",
        "\n",
        "        self.refresh_img = tk.PhotoImage(file='refresh.png')\n",
        "        btn_refresh = tk.Button(toolbar, text='Обновить', bg='beige', bd=0, image=self.refresh_img,\n",
        "                                compound=tk.TOP, command=self.view_records)\n",
        "        btn_refresh.pack(side=tk.LEFT)\n",
        "\n",
        "        self.tree = ttk.Treeview(self, columns=('ID', 'student', 'estimation', 'subject'), height=15, show='headings')\n",
        "\n",
        "        self.tree.column('ID', width=30, anchor=tk.CENTER)\n",
        "        self.tree.column('student', width=365, anchor=tk.CENTER)\n",
        "        self.tree.column('estimation', width=150, anchor=tk.CENTER)\n",
        "        self.tree.column('subject', width=100, anchor=tk.CENTER)\n",
        "\n",
        "        self.tree.heading('ID', text='ID')\n",
        "        self.tree.heading('student', text='Студент')\n",
        "        self.tree.heading('estimation', text='Оценка')\n",
        "        self.tree.heading('subject', text='Предмет')\n",
        "\n",
        "        self.tree.pack(side=tk.LEFT)\n",
        "\n",
        "        scroll = tk.Scrollbar(self, command=self.tree.yview)\n",
        "        scroll.pack(side=tk.LEFT, fill=tk.Y)\n",
        "        self.tree.configure(yscrollcommand=scroll.set)\n",
        "\n"
      ],
      "metadata": {
        "id": "cauYlUNbCFvV"
      },
      "execution_count": 58,
      "outputs": []
    },
    {
      "cell_type": "code",
      "source": [
        "def records(self, student, estimation, subject):\n",
        "        self.db.insert_data(student, estimation, subject)\n",
        "        self.view_records()\n",
        "\n"
      ],
      "metadata": {
        "id": "RhcwKZAJChVV"
      },
      "execution_count": 59,
      "outputs": []
    },
    {
      "cell_type": "code",
      "source": [
        " def update_record(self, student, estimation, subject):\n",
        "        self.db.c.execute('''UPDATE session SET student=?, estimation=?, subject=? WHERE ID=?''',\n",
        "                          (student, estimation, subject, self.tree.set(self.tree.selection()[0], '#1')))\n",
        "        self.db.conn.commit()\n",
        "        self.view_records()\n"
      ],
      "metadata": {
        "id": "ICF9Q8AhCrAF"
      },
      "execution_count": 60,
      "outputs": []
    },
    {
      "cell_type": "code",
      "source": [
        "def view_records(self):\n",
        "        self.db.c.execute('''SELECT * FROM session''')\n",
        "        [self.tree.delete(i) for i in self.tree.get_children()]\n",
        "        [self.tree.insert('', 'end', values=row) for row in self.db.c.fetchall()]\n"
      ],
      "metadata": {
        "id": "kJf72GnuC2UQ"
      },
      "execution_count": 61,
      "outputs": []
    },
    {
      "cell_type": "code",
      "source": [
        " def delete_records(self):\n",
        "        for selection_item in self.tree.selection():\n",
        "            self.db.c.execute('''DELETE FROM session WHERE id=? ''', (self.tree.set(selection_item, '#1'),))\n",
        "            self.db.conn.commit()\n",
        "            self.view_records()\n"
      ],
      "metadata": {
        "id": "Q89tUZIFC6gK"
      },
      "execution_count": 62,
      "outputs": []
    },
    {
      "cell_type": "code",
      "source": [
        " def search_records(self, student):\n",
        "        student = ('%' + student + '%',)\n",
        "        self.db.c.execute('''SELECT * FROM session WHERE student LIKE ?''', student)\n",
        "        [self.tree.delete(i) for i in self.tree.get_children()]\n",
        "        [self.tree.insert('', 'end', values=row) for row in self.db.c.fetchall()]\n"
      ],
      "metadata": {
        "id": "Z1pdfZwbDCf6"
      },
      "execution_count": 63,
      "outputs": []
    },
    {
      "cell_type": "code",
      "source": [
        "  def open_dialog(self):\n",
        "        Child()\n",
        "\n",
        "  def open_update_dialog(self):\n",
        "        Update()\n",
        "\n",
        "  def open_search_dialog(self):\n",
        "        Search()\n"
      ],
      "metadata": {
        "id": "ZrHnxmAtDMX7"
      },
      "execution_count": 64,
      "outputs": []
    },
    {
      "cell_type": "code",
      "source": [
        "class Child(tk.Toplevel):\n",
        "    def __init__(self):\n",
        "        super().__init__(root)\n",
        "        self.init_child()\n",
        "        self.view = app\n",
        "\n",
        "    def init_child(self):\n",
        "        self.title('Добавить студента')\n",
        "        self.geometry('400x220+400+300')\n",
        "        self.resizable(False, False)\n",
        "\n",
        "        label_student = tk.Label(self, text='Студент')\n",
        "        label_student.place(x=50, y=50)\n",
        "\n",
        "        label_select = tk.Label(self, text='Оценка')\n",
        "        label_select.place(x=50, y=80)\n",
        "\n",
        "        label_subject = tk.Label(self, text='Предмет')\n",
        "        label_subject.place(x=50, y=110)\n",
        "\n",
        "        self.entry_student = ttk.Entry(self)\n",
        "        self.entry_student.place(x=200, y=50)\n",
        "\n",
        "        self.entry_subject = ttk.Entry(self)\n",
        "        self.entry_subject.place(x=200, y=110)\n",
        "\n",
        "        self.combobox = ttk.Combobox(self, values=[u'Хорошо', u'Отлично', 'Удовлетворительно'])\n",
        "        self.combobox.current(0)\n",
        "        self.combobox.place(x=200, y=80)\n",
        "\n",
        "        btn_cancel = ttk.Button(self, text='Закрыть', command=self.destroy)\n",
        "        btn_cancel.place(x=300, y=150)\n",
        "\n",
        "        self.btn_ok = ttk.Button(self, text='Добавить')\n",
        "        self.btn_ok.place(x=220, y=150)\n",
        "        self.btn_ok.bind('<Button-1>', lambda event: self.view.records(self.entry_student.get(),\n",
        "                                                                       self.combobox.get(),\n",
        "                                                                       self.entry_subject.get()))\n",
        "\n",
        "        self.grab_set()\n",
        "        self.focus_set()\n",
        "\n"
      ],
      "metadata": {
        "id": "4fHDy-dkDS8W"
      },
      "execution_count": 65,
      "outputs": []
    },
    {
      "cell_type": "code",
      "source": [
        "\n",
        "\n"
      ],
      "metadata": {
        "id": "KnklfZPCDWQK"
      },
      "execution_count": 31,
      "outputs": []
    },
    {
      "cell_type": "code",
      "source": [
        "class Update(Child):\n",
        "    def __init__(self):\n",
        "        super().__init__()\n",
        "        self.init_edit()\n",
        "        self.view = app\n",
        "        self.db = db\n",
        "        self.default_data()\n"
      ],
      "metadata": {
        "id": "IJnQJEU6Ddf-"
      },
      "execution_count": 66,
      "outputs": []
    },
    {
      "cell_type": "code",
      "source": [
        "def init_edit(self):\n",
        "        self.title('Редактировать студента')\n",
        "        btn_edit = ttk.Button(self, text='Редактировать')\n",
        "        btn_edit.place(x=205, y=150)\n",
        "        btn_edit.bind('<Button-1>', lambda event: self.view.update_record(self.entry_student.get(),\n",
        "                                                                          self.combobox.get(),\n",
        "                                                                          self.entry_subject.get()))\n",
        "        self.btn_ok.destroy()\n"
      ],
      "metadata": {
        "id": "3S3ix9MKDnkW"
      },
      "execution_count": 67,
      "outputs": []
    },
    {
      "cell_type": "code",
      "source": [
        "def default_data(self):\n",
        "        self.db.c.execute('''SELECT * FROM session WHERE id=?''',\n",
        "                          (self.view.tree.set(self.view.tree.selection()[0], '#1'),))\n",
        "        row = self.db.c.fetchone()\n",
        "        self.entry_student.insert(0, row[1])\n",
        "        if row[2] != 'Хорошо':\n",
        "            self.combobox.current(1)\n",
        "        self.entry_subject.insert(0, row[3])\n",
        "\n"
      ],
      "metadata": {
        "id": "_jl_Jct9Ds_6"
      },
      "execution_count": 68,
      "outputs": []
    },
    {
      "cell_type": "code",
      "source": [
        "class Search(tk.Toplevel):\n",
        "    def __init__(self):\n",
        "        super().__init__()\n",
        "        self.init_search()\n",
        "        self.view = app\n",
        "\n",
        "    def init_search(self):\n",
        "        self.title('Поиск')\n",
        "        self.geometry('300x100+400+300')\n",
        "        self.resizable(False, False)\n",
        "\n",
        "        label_search = tk.Label(self, text='Поиск')\n",
        "        label_search.place(x=50, y=20)\n",
        "\n",
        "        self.entry_search = ttk.Entry(self)\n",
        "        self.entry_search.place(x=105, y=20, width=150)\n",
        "\n",
        "        btn_cancel = ttk.Button(self, text='Закрыть', command=self.destroy)\n",
        "        btn_cancel.place(x=185, y=50)\n",
        "\n",
        "        btn_search = ttk.Button(self, text='Поиск')\n",
        "        btn_search.place(x=105, y=50)\n",
        "        btn_search.bind('<Button-1>', lambda event: self.view.search_records(self.entry_search.get()))\n",
        "        btn_search.bind('<Button-1>', lambda event: self.destroy(), add='+')\n",
        "\n"
      ],
      "metadata": {
        "id": "lqHCxY88DyvF"
      },
      "execution_count": 69,
      "outputs": []
    },
    {
      "cell_type": "code",
      "source": [
        "class DB:\n",
        "    def __init__(self):\n",
        "        self.conn = sqlite3.connect('session.db')\n",
        "        self.c = self.conn.cursor()\n",
        "        self.c.execute(\n",
        "            '''CREATE TABLE IF NOT EXISTS session (id integer primary key, student text, \n",
        "            estimation text, subject text)''')\n",
        "        self.conn.commit()\n",
        "\n",
        "    def insert_data(self, student, estimation, subject):\n",
        "        self.c.execute('''INSERT INTO session (student, estimation, subject) VALUES (?, ?, ?) ''',\n",
        "                       (student, estimation, subject))\n",
        "        self.conn.commit()\n"
      ],
      "metadata": {
        "id": "l1uoXirrD6J6"
      },
      "execution_count": 70,
      "outputs": []
    },
    {
      "cell_type": "code",
      "source": [
        "if __name__ == \"__main__\":\n",
        "    root = tk.Tk()\n",
        "    db = DB()\n",
        "    app = Main(root)\n",
        "    app.pack()\n",
        "    root.title(\"Session\")\n",
        "    root.geometry(\"665x450+300+200\")\n",
        "    root.resizable(False, False)\n",
        "    root.mainloop()\n"
      ],
      "metadata": {
        "colab": {
          "base_uri": "https://localhost:8080/",
          "height": 356
        },
        "id": "siFItCnlEACi",
        "outputId": "a5c35a38-6322-42a4-9dc3-3ecdb3c82af1"
      },
      "execution_count": 71,
      "outputs": [
        {
          "output_type": "error",
          "ename": "AttributeError",
          "evalue": "ignored",
          "traceback": [
            "\u001b[0;31m---------------------------------------------------------------------------\u001b[0m",
            "\u001b[0;31mAttributeError\u001b[0m                            Traceback (most recent call last)",
            "\u001b[0;32m<ipython-input-71-1704ae720398>\u001b[0m in \u001b[0;36m<cell line: 1>\u001b[0;34m()\u001b[0m\n\u001b[1;32m      2\u001b[0m     \u001b[0mroot\u001b[0m \u001b[0;34m=\u001b[0m \u001b[0mtk\u001b[0m\u001b[0;34m.\u001b[0m\u001b[0mTk\u001b[0m\u001b[0;34m(\u001b[0m\u001b[0;34m)\u001b[0m\u001b[0;34m\u001b[0m\u001b[0;34m\u001b[0m\u001b[0m\n\u001b[1;32m      3\u001b[0m     \u001b[0mdb\u001b[0m \u001b[0;34m=\u001b[0m \u001b[0mDB\u001b[0m\u001b[0;34m(\u001b[0m\u001b[0;34m)\u001b[0m\u001b[0;34m\u001b[0m\u001b[0;34m\u001b[0m\u001b[0m\n\u001b[0;32m----> 4\u001b[0;31m     \u001b[0mapp\u001b[0m \u001b[0;34m=\u001b[0m \u001b[0mMain\u001b[0m\u001b[0;34m(\u001b[0m\u001b[0mroot\u001b[0m\u001b[0;34m)\u001b[0m\u001b[0;34m\u001b[0m\u001b[0;34m\u001b[0m\u001b[0m\n\u001b[0m\u001b[1;32m      5\u001b[0m     \u001b[0mapp\u001b[0m\u001b[0;34m.\u001b[0m\u001b[0mpack\u001b[0m\u001b[0;34m(\u001b[0m\u001b[0;34m)\u001b[0m\u001b[0;34m\u001b[0m\u001b[0;34m\u001b[0m\u001b[0m\n\u001b[1;32m      6\u001b[0m     \u001b[0mroot\u001b[0m\u001b[0;34m.\u001b[0m\u001b[0mtitle\u001b[0m\u001b[0;34m(\u001b[0m\u001b[0;34m\"Session\"\u001b[0m\u001b[0;34m)\u001b[0m\u001b[0;34m\u001b[0m\u001b[0;34m\u001b[0m\u001b[0m\n",
            "\u001b[0;32m<ipython-input-57-c5d78d3ae02c>\u001b[0m in \u001b[0;36m__init__\u001b[0;34m(self, root)\u001b[0m\n\u001b[1;32m      2\u001b[0m    \u001b[0;32mdef\u001b[0m \u001b[0m__init__\u001b[0m\u001b[0;34m(\u001b[0m\u001b[0mself\u001b[0m\u001b[0;34m,\u001b[0m \u001b[0mroot\u001b[0m\u001b[0;34m)\u001b[0m\u001b[0;34m:\u001b[0m\u001b[0;34m\u001b[0m\u001b[0;34m\u001b[0m\u001b[0m\n\u001b[1;32m      3\u001b[0m        \u001b[0msuper\u001b[0m\u001b[0;34m(\u001b[0m\u001b[0;34m)\u001b[0m\u001b[0;34m.\u001b[0m\u001b[0m__init__\u001b[0m\u001b[0;34m(\u001b[0m\u001b[0mroot\u001b[0m\u001b[0;34m)\u001b[0m\u001b[0;34m\u001b[0m\u001b[0;34m\u001b[0m\u001b[0m\n\u001b[0;32m----> 4\u001b[0;31m        \u001b[0mself\u001b[0m\u001b[0;34m.\u001b[0m\u001b[0minit_main\u001b[0m\u001b[0;34m(\u001b[0m\u001b[0;34m)\u001b[0m\u001b[0;34m\u001b[0m\u001b[0;34m\u001b[0m\u001b[0m\n\u001b[0m\u001b[1;32m      5\u001b[0m        \u001b[0mself\u001b[0m\u001b[0;34m.\u001b[0m\u001b[0mdb\u001b[0m \u001b[0;34m=\u001b[0m \u001b[0mdb\u001b[0m\u001b[0;34m\u001b[0m\u001b[0;34m\u001b[0m\u001b[0m\n\u001b[1;32m      6\u001b[0m        \u001b[0mself\u001b[0m\u001b[0;34m.\u001b[0m\u001b[0mview_records\u001b[0m\u001b[0;34m(\u001b[0m\u001b[0;34m)\u001b[0m\u001b[0;34m\u001b[0m\u001b[0;34m\u001b[0m\u001b[0m\n",
            "\u001b[0;31mAttributeError\u001b[0m: 'Main' object has no attribute 'init_main'"
          ]
        }
      ]
    }
  ]
}